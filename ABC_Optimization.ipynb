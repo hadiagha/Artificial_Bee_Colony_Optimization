{
 "cells": [
  {
   "cell_type": "markdown",
   "metadata": {},
   "source": [
    "Steps of ABC:\n",
    "\n",
    "1- Generate initial randomized population an evaluate them.\n",
    "\n",
    "2- Movement of recruited bees.\n",
    "\n",
    "3- Send onlooker bees. (Calculate probabilities -> Select site -> Generate new solution -> Evaluation)\n",
    "\n",
    "4- If there is a site which is reached to the the number of unproceeded counts, that site will be replaced randomly with another one.\n",
    "\n",
    "5- If end conditions are not met yet, return to the step 2, else the end.\n"
   ]
  },
  {
   "cell_type": "code",
   "execution_count": null,
   "metadata": {},
   "outputs": [],
   "source": []
  }
 ],
 "metadata": {
  "interpreter": {
   "hash": "565423ac280d6ee0d4b588e8221b48607d6a5d11f40b7022a89b60ca718d28fd"
  },
  "kernelspec": {
   "display_name": "Python 3.10.4 ('rl_env')",
   "language": "python",
   "name": "python3"
  },
  "language_info": {
   "name": "python",
   "version": "3.10.4"
  },
  "orig_nbformat": 4
 },
 "nbformat": 4,
 "nbformat_minor": 2
}
