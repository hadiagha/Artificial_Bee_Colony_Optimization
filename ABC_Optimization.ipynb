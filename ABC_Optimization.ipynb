{
 "cells": [
  {
   "cell_type": "markdown",
   "metadata": {},
   "source": [
    "Steps of ABC:\n",
    "\n",
    "1- Generate initial randomized population an evaluate them.\n",
    "\n",
    "2- Movement of recruited bees.\n",
    "\n",
    "3- Send onlooker bees. (Calculate probabilities -> Select site -> Generate new solution -> Evaluation)\n",
    "\n",
    "4- If there is a site which is reached to the the number of unproceeded counts, that site will be replaced randomly with another one.\n",
    "\n",
    "5- If end conditions are not met yet, return to the step 2, else the end.\n",
    "\n",
    "This algorithm just works for continuous space.\n"
   ]
  },
  {
   "cell_type": "code",
   "execution_count": 35,
   "metadata": {},
   "outputs": [],
   "source": [
    "#import libraries\n",
    "import numpy as np\n",
    "import copy\n",
    "import random as rd\n",
    "import matplotlib.pyplot as plt"
   ]
  },
  {
   "cell_type": "code",
   "execution_count": 36,
   "metadata": {},
   "outputs": [],
   "source": [
    "#define function\n",
    "\n",
    "def sphere(x):\n",
    "    return np.sum(np.power(x,2))"
   ]
  },
  {
   "cell_type": "code",
   "execution_count": 37,
   "metadata": {},
   "outputs": [],
   "source": [
    "#problem definition\n",
    "def costFunction(x):\n",
    "    return sphere(x)\n",
    "\n",
    "nVar = 5    #number of decision variable\n",
    "varSize = nVar #decision variable matrix size\n",
    "varMin = -10    # decision variable lower bound,  can be changed to array\n",
    "varMax = 10     #decision variable upper bound, can be changed to array\n"
   ]
  },
  {
   "cell_type": "code",
   "execution_count": 38,
   "metadata": {},
   "outputs": [],
   "source": [
    "#ABC Settings\n",
    "nPop  = 10      # number of population, scout B\n",
    "\n",
    "nOnlooker = nPop    #number of onlookers bees\n",
    "\n",
    "maxIt = 100     #Maximum number of iteration\n",
    "\n",
    "a_limit = int(round(0.5 *nPop * nVar,0))     #Abandonment Limit Parameter\n",
    "\n",
    "acu = 1       #acceleration coefficient upper bound\n"
   ]
  },
  {
   "cell_type": "code",
   "execution_count": 86,
   "metadata": {},
   "outputs": [],
   "source": [
    "#Initialization\n",
    "\n",
    "#empty_bee structure\n",
    "bee_positions = []\n",
    "bee_costs = []\n",
    "\n",
    "#Initialize best solution ever found\n",
    "bestSol_cost = np.inf\n",
    "bestSol_position = []\n",
    "\n",
    "#create initial population\n",
    "for i in range(nPop):\n",
    "    position = np.random.uniform(varMin,varMax,nVar).tolist()\n",
    "    bee_positions.append(position)\n",
    "\n",
    "    cost = costFunction(position)\n",
    "    bee_costs.append(cost)\n",
    "\n",
    "    if cost <= bestSol_cost:\n",
    "        bestSol_cost = cost\n",
    "        bestSol_position = position\n",
    "\n",
    "#Abandonment Counter\n",
    "C = np.zeros((nPop,1))\n",
    "\n",
    "#List of best costs in iteration\n",
    "BestCost = []"
   ]
  },
  {
   "cell_type": "code",
   "execution_count": 40,
   "metadata": {},
   "outputs": [],
   "source": [
    "def roulettWheelSelection(P):\n",
    "    rNum = rd.random()\n",
    "    C = np.cumsum(P)\n",
    "    return min(np.where(rNum <= C)[0])"
   ]
  },
  {
   "cell_type": "code",
   "execution_count": 85,
   "metadata": {},
   "outputs": [
    {
     "ename": "ValueError",
     "evalue": "The truth value of an array with more than one element is ambiguous. Use a.any() or a.all()",
     "output_type": "error",
     "traceback": [
      "\u001b[1;31m---------------------------------------------------------------------------\u001b[0m",
      "\u001b[1;31mValueError\u001b[0m                                Traceback (most recent call last)",
      "\u001b[1;32mc:\\Users\\snapp\\Desktop\\PersonalProjects\\Artificial_Bee_Colony_Optimization\\ABC_Optimization.ipynb Cell 8'\u001b[0m in \u001b[0;36m<cell line: 2>\u001b[1;34m()\u001b[0m\n\u001b[0;32m     <a href='vscode-notebook-cell:/c%3A/Users/snapp/Desktop/PersonalProjects/Artificial_Bee_Colony_Optimization/ABC_Optimization.ipynb#ch0000007?line=75'>76</a>\u001b[0m \u001b[39m#Update best solution ever found\u001b[39;00m\n\u001b[0;32m     <a href='vscode-notebook-cell:/c%3A/Users/snapp/Desktop/PersonalProjects/Artificial_Bee_Colony_Optimization/ABC_Optimization.ipynb#ch0000007?line=76'>77</a>\u001b[0m \u001b[39mfor\u001b[39;00m i \u001b[39min\u001b[39;00m \u001b[39mrange\u001b[39m(nPop):\n\u001b[1;32m---> <a href='vscode-notebook-cell:/c%3A/Users/snapp/Desktop/PersonalProjects/Artificial_Bee_Colony_Optimization/ABC_Optimization.ipynb#ch0000007?line=77'>78</a>\u001b[0m     \u001b[39mif\u001b[39;00m bee_costs[i] \u001b[39m<\u001b[39m\u001b[39m=\u001b[39m bestSol_cost:\n\u001b[0;32m     <a href='vscode-notebook-cell:/c%3A/Users/snapp/Desktop/PersonalProjects/Artificial_Bee_Colony_Optimization/ABC_Optimization.ipynb#ch0000007?line=78'>79</a>\u001b[0m         bestSol_position \u001b[39m=\u001b[39m bee_positions\n\u001b[0;32m     <a href='vscode-notebook-cell:/c%3A/Users/snapp/Desktop/PersonalProjects/Artificial_Bee_Colony_Optimization/ABC_Optimization.ipynb#ch0000007?line=79'>80</a>\u001b[0m         bestSol_cost \u001b[39m=\u001b[39m bee_costs[i]\n",
      "\u001b[1;31mValueError\u001b[0m: The truth value of an array with more than one element is ambiguous. Use a.any() or a.all()"
     ]
    }
   ],
   "source": [
    "#ABC Main loop\n",
    "for it in range(maxIt):\n",
    "    #Recruited Bees\n",
    "    for i in range(nPop):\n",
    "        newPopPosition = copy.deepcopy(bee_positions)\n",
    "        newPopCost =  copy.deepcopy(bee_costs)\n",
    "\n",
    "        K = [x for x in range(nPop) if x !=i]\n",
    "        #random number from K not equal to i\n",
    "        k =  K[rd.randint(0,len(K)-1)]\n",
    "\n",
    "        #define accelaration coef\n",
    "        phi = np.random.uniform(-acu, acu, varSize)\n",
    "\n",
    "        #new bee position\n",
    "        multi_List = [a - b for a, b in zip(bee_positions[i], bee_positions[k])]\n",
    "        newPopPosition = bee_positions[p] + [s * u for s,u in zip(phi,multi_List)]\n",
    "\n",
    "        #Evaluation\n",
    "        newPopCost = costFunction(position)\n",
    "\n",
    "        #Comparision\n",
    "        if newPopCost <= bee_costs[i]:\n",
    "            bee_positions[i] = newPopPosition\n",
    "            bee_costs[i] = newPopCost\n",
    "        else:\n",
    "            C[i] += C[i]\n",
    "\n",
    "\n",
    "    #calculate fitness values and selection probabilities\n",
    "    FF = np.zeros((nPop,1))\n",
    "    for i in range(nPop):\n",
    "        if bee_costs[i] >=0:\n",
    "            FF[i] = 1 / (1 + bee_costs[i])\n",
    "        else:\n",
    "            FF[i] = 1 + abs((1 + bee_costs[i]))\n",
    "\n",
    "    P = FF / sum(FF)\n",
    "\n",
    "    #onlooker Bees\n",
    "    for ol in range(nOnlooker):\n",
    "        #select source site\n",
    "        p = roulettWheelSelection(P)\n",
    "\n",
    "        K = [x for x in range(nPop) if x !=p]\n",
    "        #random number from K not equal to i\n",
    "        k =  K[rd.randint(0,len(K)-1)]\n",
    "\n",
    "        #define accelaration coef\n",
    "        phi = np.random.uniform(-acu, acu, varSize).tolist()\n",
    "\n",
    "        #new bee position\n",
    "        multi_List = [a - b for a, b in zip(bee_positions[i], bee_positions[k])]\n",
    "        newPopPosition = bee_positions[p] + [s * u for s,u in zip(phi,multi_List)]\n",
    "        #Evaluation\n",
    "        newPopCost = costFunction(newPopPosition)\n",
    "\n",
    "        #Comparision\n",
    "        if newPopCost <= bee_costs[p]:\n",
    "            bee_positions[p] = newPopPosition\n",
    "            bee_costs[p] = newPopCost\n",
    "        else:\n",
    "            C[p] += C[p]\n",
    "\n",
    "    #scout Bees\n",
    "    for i in range(nPop):\n",
    "        if C[i] >= a_limit:\n",
    "            position = np.random.uniform(varMin,varMax,nVar).tolist()\n",
    "            bee_positions.append(position)\n",
    "\n",
    "            cost = costFunction(position)\n",
    "            bee_costs.append(cost)\n",
    "\n",
    "            C[i] = 0\n",
    "\n",
    "    #Update best solution ever found\n",
    "    for i in range(nPop):\n",
    "        if bee_costs[i] <= bestSol_cost:\n",
    "            bestSol_position = bee_positions\n",
    "            bestSol_cost = bee_costs[i]\n",
    "\n",
    "    #Store best cost ever cost\n",
    "    BestCost.append(bestSol_cost)\n",
    "\n",
    "    #Show Iteration Information\n",
    "    print('Iteration ' + str(it) +\": Best Cost = \" + str(BestCost[it]))"
   ]
  },
  {
   "cell_type": "code",
   "execution_count": null,
   "metadata": {},
   "outputs": [],
   "source": [
    "#Plot the cost results\n",
    "plt.figure(figsize=(15, 10))\n",
    "plt.plot(BestCost, 'ro-', label='Cost Results', linewidth=3, markersize=3)\n",
    "plt.title('Results for BBO Algorithm')\n",
    "plt.ylabel('Best Cost')\n",
    "plt.xlabel('Iteration')\n",
    "plt.show()"
   ]
  },
  {
   "cell_type": "code",
   "execution_count": 84,
   "metadata": {},
   "outputs": [
    {
     "data": {
      "text/plain": [
       "[134.5102557679421,\n",
       " 187.17632863505264,\n",
       " 92.14354748300278,\n",
       " 266.4050886932922,\n",
       " 139.55248669134335,\n",
       " 264.9870202204546,\n",
       " 157.1195521909191,\n",
       " 176.77365270245417,\n",
       " 224.87414569882802,\n",
       " 267.6410642479568]"
      ]
     },
     "execution_count": 84,
     "metadata": {},
     "output_type": "execute_result"
    }
   ],
   "source": [
    "bestSol_cost"
   ]
  },
  {
   "cell_type": "code",
   "execution_count": 66,
   "metadata": {},
   "outputs": [
    {
     "data": {
      "text/plain": [
       "array([  1.59214123,  -4.8786129 , -10.15019461,  -2.07323559,\n",
       "        -1.8517159 ])"
      ]
     },
     "execution_count": 66,
     "metadata": {},
     "output_type": "execute_result"
    }
   ],
   "source": [
    "* ([a - b for a, b in zip(bee_positions[i], bee_positions[k])])"
   ]
  },
  {
   "cell_type": "code",
   "execution_count": 75,
   "metadata": {},
   "outputs": [
    {
     "data": {
      "text/plain": [
       "[0.3395445874844092,\n",
       " -0.4930073226597489,\n",
       " 0.7861164448070574,\n",
       " 0.5813313387978534,\n",
       " 0.6490006831970321]"
      ]
     },
     "execution_count": 75,
     "metadata": {},
     "output_type": "execute_result"
    }
   ],
   "source": [
    "phi "
   ]
  }
 ],
 "metadata": {
  "interpreter": {
   "hash": "565423ac280d6ee0d4b588e8221b48607d6a5d11f40b7022a89b60ca718d28fd"
  },
  "kernelspec": {
   "display_name": "Python 3.10.4 ('rl_env')",
   "language": "python",
   "name": "python3"
  },
  "language_info": {
   "codemirror_mode": {
    "name": "ipython",
    "version": 3
   },
   "file_extension": ".py",
   "mimetype": "text/x-python",
   "name": "python",
   "nbconvert_exporter": "python",
   "pygments_lexer": "ipython3",
   "version": "3.10.4"
  },
  "orig_nbformat": 4
 },
 "nbformat": 4,
 "nbformat_minor": 2
}
