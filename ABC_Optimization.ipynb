{
 "cells": [
  {
   "cell_type": "markdown",
   "metadata": {},
   "source": [
    "Steps of ABC:\n",
    "\n",
    "1- Generate initial randomized population an evaluate them.\n",
    "\n",
    "2- Movement of recruited bees.\n",
    "\n",
    "3- Send onlooker bees. (Calculate probabilities -> Select site -> Generate new solution -> Evaluation)\n",
    "\n",
    "4- If there is a site which is reached to the the number of unproceeded counts, that site will be replaced randomly with another one.\n",
    "\n",
    "5- If end conditions are not met yet, return to the step 2, else the end.\n",
    "\n",
    "This algorithm just works for continuous space.\n"
   ]
  },
  {
   "cell_type": "code",
   "execution_count": 1,
   "metadata": {},
   "outputs": [],
   "source": [
    "#import libraries\n",
    "import numpy as np"
   ]
  },
  {
   "cell_type": "code",
   "execution_count": 2,
   "metadata": {},
   "outputs": [],
   "source": [
    "#define function\n",
    "\n",
    "def sphere(x):\n",
    "    return np.sum(np.power(x,2))"
   ]
  },
  {
   "cell_type": "code",
   "execution_count": null,
   "metadata": {},
   "outputs": [],
   "source": [
    "#problem definition\n",
    "def costFunction(x):\n",
    "    return sphere(x)\n",
    "\n",
    "nVar = 5    #number of decision variable\n",
    "varSize = nVar #decision variable matrix size\n",
    "varMin = -10    # decision variable lower bound,  can be changed to array\n",
    "varMax = 10     #decision variable upper bound, can be changed to array\n",
    "\n"
   ]
  },
  {
   "cell_type": "code",
   "execution_count": null,
   "metadata": {},
   "outputs": [],
   "source": []
  },
  {
   "cell_type": "code",
   "execution_count": null,
   "metadata": {},
   "outputs": [],
   "source": []
  }
 ],
 "metadata": {
  "interpreter": {
   "hash": "565423ac280d6ee0d4b588e8221b48607d6a5d11f40b7022a89b60ca718d28fd"
  },
  "kernelspec": {
   "display_name": "Python 3.10.4 ('rl_env')",
   "language": "python",
   "name": "python3"
  },
  "language_info": {
   "codemirror_mode": {
    "name": "ipython",
    "version": 3
   },
   "file_extension": ".py",
   "mimetype": "text/x-python",
   "name": "python",
   "nbconvert_exporter": "python",
   "pygments_lexer": "ipython3",
   "version": "3.10.4"
  },
  "orig_nbformat": 4
 },
 "nbformat": 4,
 "nbformat_minor": 2
}
